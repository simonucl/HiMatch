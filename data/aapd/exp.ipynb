{
 "cells": [
  {
   "cell_type": "code",
   "execution_count": 9,
   "metadata": {},
   "outputs": [],
   "source": [
    "import pandas as pd\n",
    "import numpy as np\n",
    "import json\n",
    "import os"
   ]
  },
  {
   "cell_type": "code",
   "execution_count": 10,
   "metadata": {},
   "outputs": [],
   "source": [
    "train_path = './aapd_train.json'\n",
    "dev_path = './aapd_val.json'\n",
    "test_path = './aapd_test.json'\n",
    "\n",
    "train_data, val_data, test_data = [], [], []\n",
    "with open(train_path) as fd:\n",
    "    for line in fd.readlines():\n",
    "        train_data.append(json.loads(line))\n",
    "with open(dev_path) as fd:\n",
    "    for line in fd.readlines():\n",
    "        val_data.append(json.loads(line))\n",
    "with open(test_path) as fd:\n",
    "    for line in fd.readlines():\n",
    "        test_data.append(json.loads(line))\n",
    "        "
   ]
  },
  {
   "cell_type": "code",
   "execution_count": 11,
   "metadata": {},
   "outputs": [
    {
     "data": {
      "text/plain": [
       "{'token': ['relation',\n",
       "  'pearson',\n",
       "  \"'s\",\n",
       "  'correlation',\n",
       "  'coefficient',\n",
       "  'salton',\n",
       "  \"'s\",\n",
       "  'cosine',\n",
       "  'measure',\n",
       "  'revealed',\n",
       "  'based',\n",
       "  'different',\n",
       "  'possible',\n",
       "  'values',\n",
       "  'division',\n",
       "  'l1',\n",
       "  'norm',\n",
       "  'l2',\n",
       "  'norm',\n",
       "  'vector',\n",
       "  'different',\n",
       "  'values',\n",
       "  'yield',\n",
       "  'sheaf',\n",
       "  'increasingly',\n",
       "  'straight',\n",
       "  'lines',\n",
       "  'form',\n",
       "  'together',\n",
       "  'cloud',\n",
       "  'points',\n",
       "  'investigated',\n",
       "  'relation',\n",
       "  'theoretical',\n",
       "  'results',\n",
       "  'tested',\n",
       "  'author',\n",
       "  'co',\n",
       "  'citation',\n",
       "  'relations',\n",
       "  'among',\n",
       "  '24',\n",
       "  'informetricians',\n",
       "  'two',\n",
       "  'matrices',\n",
       "  'constructed',\n",
       "  'based',\n",
       "  'co',\n",
       "  'citations',\n",
       "  'asymmetric',\n",
       "  'occurrence',\n",
       "  'matrix',\n",
       "  'symmetric',\n",
       "  'co',\n",
       "  'citation',\n",
       "  'matrix',\n",
       "  'examples',\n",
       "  'completely',\n",
       "  'confirm',\n",
       "  'theoretical',\n",
       "  'results',\n",
       "  'results',\n",
       "  'enable',\n",
       "  'us',\n",
       "  'specify',\n",
       "  'algorithm',\n",
       "  'provides',\n",
       "  'threshold',\n",
       "  'value',\n",
       "  'cosine',\n",
       "  'none',\n",
       "  'corresponding',\n",
       "  'pearson',\n",
       "  'correlations',\n",
       "  'would',\n",
       "  'negative',\n",
       "  'using',\n",
       "  'threshold',\n",
       "  'value',\n",
       "  'expected',\n",
       "  'optimize',\n",
       "  'visualization',\n",
       "  'vector',\n",
       "  'space'],\n",
       " 'label': ['Methodology',\n",
       "  'Statistics',\n",
       "  'Information Retrieval',\n",
       "  'Computer Science']}"
      ]
     },
     "execution_count": 11,
     "metadata": {},
     "output_type": "execute_result"
    }
   ],
   "source": [
    "train_data[0]"
   ]
  },
  {
   "cell_type": "code",
   "execution_count": 3,
   "metadata": {},
   "outputs": [
    {
     "name": "stdout",
     "output_type": "stream",
     "text": [
      "max label length:  13\n",
      "min label length:  3\n",
      "mean label length:  4.086515042979943\n"
     ]
    }
   ],
   "source": [
    "labels = []\n",
    "for data in train_data:\n",
    "    labels.append(len(data['label']))\n",
    "for data in val_data:\n",
    "    labels.append(len(data['label']))\n",
    "for data in test_data:\n",
    "    labels.append(len(data['label']))\n",
    "\n",
    "print('max label length: ', max(labels))\n",
    "print('min label length: ', min(labels))\n",
    "print('mean label length: ', np.mean(labels))"
   ]
  },
  {
   "cell_type": "code",
   "execution_count": 8,
   "metadata": {},
   "outputs": [
    {
     "data": {
      "text/plain": [
       "'Statistics'"
      ]
     },
     "execution_count": 8,
     "metadata": {},
     "output_type": "execute_result"
    }
   ],
   "source": [
    "label_mapping['stat']"
   ]
  },
  {
   "cell_type": "code",
   "execution_count": 9,
   "metadata": {},
   "outputs": [],
   "source": [
    "with open('./label_mapping.json', 'r') as fd:\n",
    "    label_mapping = json.load(fd)\n",
    "\n",
    "\n",
    "# get the keys that have dupliate vaules that are duplicated in the label_mapping\n",
    "inv_mapping = {}\n",
    "for k, v in label_mapping.items():\n",
    "    inv_mapping[v] = inv_mapping.get(v, [])\n",
    "    inv_mapping[v].append(k)\n",
    "\n",
    "# get those keys from the inv_mapping that have more than one values\n",
    "{k: v for k, v in inv_mapping.items() if len(v) > 1}\n",
    "# change the label_mapping for cs.cl to CS Computation and Language\n",
    "label_mapping['cs.cl'] = 'CS - Computation and Language'\n",
    "label_mapping['cs.it'] = 'CS - Information Theory'\n",
    "label_mapping['math.it'] = 'Math - Information Theory'\n",
    "label_mapping['cs.lg'] = 'CS - Machine Learning'\n",
    "label_mapping['stat.ml'] = 'Statistics - Machine Learning'\n",
    "label_mapping['cs.na'] = 'CS - Numerical Analysis'\n",
    "label_mapping['math.na'] = 'Math - Numerical Analysis'\n",
    "label_mapping['math.st'] = 'Math - Statistics Theory'\n",
    "label_mapping['stat.th'] = 'Statistics Theory'"
   ]
  },
  {
   "cell_type": "code",
   "execution_count": 11,
   "metadata": {},
   "outputs": [],
   "source": [
    "# save the label_mapping\n",
    "\n",
    "with open('./label_mapping.json', 'w') as fd:\n",
    "    json.dump(label_mapping, fd)"
   ]
  },
  {
   "cell_type": "code",
   "execution_count": 5,
   "metadata": {},
   "outputs": [],
   "source": [
    "import nltk\n",
    "import re\n",
    "\n",
    "def filter_non_tokens(sentence):\n",
    "    # Tokenize the sentence\n",
    "    tokens = nltk.word_tokenize(sentence)\n",
    "    \n",
    "    # Define a regular expression pattern to match punctuation marks\n",
    "    punctuation_pattern = re.compile(r'^\\W*$')\n",
    "    \n",
    "    # Filter out punctuation marks\n",
    "    filtered_tokens = [token for token in tokens if not punctuation_pattern.match(token)]\n",
    "    \n",
    "    return filtered_tokens\n",
    "\n",
    "def filter_stop_words(tokens):    \n",
    "    # Filter out stop words\n",
    "    filtered_tokens = [token for token in tokens if token not in nltk.corpus.stopwords.words('english')]\n",
    "    \n",
    "    return filtered_tokens\n",
    "\n",
    "for i in range(len(train_data)):\n",
    "    train_data[i]['token'] = filter_stop_words(train_data[i]['token'])\n",
    "    # train_data[i]['token'] = [str.lower(t).replace(',', '').replace('.', '') for t in train_data[i]['token']]\n",
    "    # train_data[i]['token'] = filter_non_tokens(train_data[i]['token'])\n",
    "    # train_data[i]['label'] = [label_mapping[l] for l in train_data[i]['label']]\n",
    "\n",
    "for i in range(len(val_data)):\n",
    "    val_data[i]['token'] = filter_stop_words(val_data[i]['token'])\n",
    "    # val_data[i]['token'] = [str.lower(t).replace(',', '').replace('.', '') for t in val_data[i]['token']]\n",
    "\n",
    "for i in range(len(test_data)):\n",
    "    test_data[i]['token'] = filter_stop_words(test_data[i]['token'])\n",
    "    # test_data[i]['token'] = [str.lower(t).replace(',', '').replace('.', '') for t in test_data[i]['token']]\n",
    "    # test_data[i]['label'] = [label_mapping[l] for l in test_data[i]['label']]"
   ]
  },
  {
   "cell_type": "code",
   "execution_count": 6,
   "metadata": {},
   "outputs": [],
   "source": [
    "# dump them into json files\n",
    "with open('./aapd_train.json', 'w') as fd:\n",
    "    for data in train_data:\n",
    "        json.dump(data, fd)\n",
    "        fd.write('\\n')\n",
    "\n",
    "with open('./aapd_val.json', 'w') as fd:\n",
    "    for data in val_data:\n",
    "        json.dump(data, fd)\n",
    "        fd.write('\\n')\n",
    "\n",
    "with open('./aapd_test.json', 'w') as fd:\n",
    "    for data in test_data:\n",
    "        json.dump(data, fd)\n",
    "        fd.write('\\n')"
   ]
  },
  {
   "cell_type": "code",
   "execution_count": 17,
   "metadata": {},
   "outputs": [],
   "source": [
    "with open('./aapd.taxonomy', 'r') as fd:\n",
    "    taxonomy = fd.readlines()\n",
    "\n",
    "for i in range(len(taxonomy)):\n",
    "    taxonomy[i] = '\\t'.join([label_mapping[l] if l != 'Root' else l for l in taxonomy[i].strip('\\n').split('\\t')])\n",
    "\n",
    "# dump the taxonomy into a file\n",
    "with open('./aapd.taxonomy', 'w') as fd:\n",
    "    for line in taxonomy:\n",
    "        fd.write(line + '\\n')"
   ]
  },
  {
   "cell_type": "code",
   "execution_count": 8,
   "metadata": {},
   "outputs": [],
   "source": [
    "from collections import Counter\n",
    "labels = []\n",
    "vocabs = []\n",
    "\n",
    "for data in train_data:\n",
    "    labels.extend(data['label'])\n",
    "    vocabs.extend(data['token'])\n",
    "\n",
    "# count the frequency of each label and vocab\n",
    "label_count = Counter(labels)\n",
    "vocab_count = Counter(vocabs)\n",
    "\n",
    "# sort the label and vocab by their frequency\n",
    "label_count = sorted(label_count.items(), key=lambda x: x[1], reverse=True)\n",
    "vocab_count = sorted(vocab_count.items(), key=lambda x: x[1], reverse=True)\n",
    "# save as vocab_aapd/label.dict and vocab_aapd/vocab.dict\n",
    "\n",
    "if not os.path.exists('./vocab_aapd'):\n",
    "    os.mkdir('./vocab_aapd')\n",
    "\n",
    "with open('./vocab_aapd/label.dict', 'w') as fd:\n",
    "    for label, count in label_count:\n",
    "        fd.write(label + '\\t' + str(count) + '\\n')\n",
    "\n",
    "with open('./vocab_aapd/vocab.dict', 'w') as fd:\n",
    "    for vocab, count in vocab_count:\n",
    "        fd.write(vocab + '\\t' + str(count) + '\\n')"
   ]
  },
  {
   "cell_type": "code",
   "execution_count": null,
   "metadata": {},
   "outputs": [],
   "source": []
  }
 ],
 "metadata": {
  "kernelspec": {
   "display_name": "multi",
   "language": "python",
   "name": "python3"
  },
  "language_info": {
   "codemirror_mode": {
    "name": "ipython",
    "version": 3
   },
   "file_extension": ".py",
   "mimetype": "text/x-python",
   "name": "python",
   "nbconvert_exporter": "python",
   "pygments_lexer": "ipython3",
   "version": "3.7.12"
  },
  "orig_nbformat": 4
 },
 "nbformat": 4,
 "nbformat_minor": 2
}
